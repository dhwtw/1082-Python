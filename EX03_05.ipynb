{
 "cells": [
  {
   "cell_type": "code",
   "execution_count": 3,
   "metadata": {},
   "outputs": [],
   "source": [
    "#exercise 3-5\n",
    "#Geometry problem: area of a regular polygon"
   ]
  },
  {
   "cell_type": "markdown",
   "metadata": {},
   "source": [
    "* $$Area=\\frac{n\\times s^2}{4\\times tan (\\frac {\\pi}{n})}$$"
   ]
  },
  {
   "cell_type": "code",
   "execution_count": 11,
   "metadata": {},
   "outputs": [
    {
     "name": "stdout",
     "output_type": "stream",
     "text": [
      "Please Enter n : 3\n",
      "Please Enter s : 4\n",
      "The area of regular polygon is 6.93\n"
     ]
    }
   ],
   "source": [
    "import math #import \"math\" and you can use math func. like sin,cos and tan etc.\n",
    "\n",
    "n=eval(input(\"Please Enter n : \"))\n",
    "s=eval(input(\"Please Enter s : \"))\n",
    "Area= (n*s**2) / (4*math.tan(math.pi/n))\n",
    "print(\"The area of regular polygon is\" , '%.2f' %Area)"
   ]
  }
 ],
 "metadata": {
  "kernelspec": {
   "display_name": "Python 3",
   "language": "python",
   "name": "python3"
  },
  "language_info": {
   "codemirror_mode": {
    "name": "ipython",
    "version": 3
   },
   "file_extension": ".py",
   "mimetype": "text/x-python",
   "name": "python",
   "nbconvert_exporter": "python",
   "pygments_lexer": "ipython3",
   "version": "3.5.5"
  }
 },
 "nbformat": 4,
 "nbformat_minor": 2
}
