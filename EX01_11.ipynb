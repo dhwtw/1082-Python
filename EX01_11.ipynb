{
 "cells": [
  {
   "cell_type": "code",
   "execution_count": 18,
   "metadata": {},
   "outputs": [
    {
     "name": "stdout",
     "output_type": "stream",
     "text": [
      "1 year later the population is 314812582\n",
      "2 year later the population is 317592679\n",
      "3 year later the population is 320372776\n",
      "4 year later the population is 323152872\n",
      "5 year later the population is 325932969\n"
     ]
    }
   ],
   "source": [
    "#exercise 1-11\n",
    "#Population projection\n",
    "\n",
    "t = 365*24*60*60 #the time of a year in seconds\n",
    "born = t/7 #born in a year\n",
    "death = t/13 #death in a year\n",
    "immigrant = t/45 #immigrant in a year\n",
    "\n",
    "currentpopulation = 312032486\n",
    "population = born+immigrant-death\n",
    "\n",
    "for i in range(5):\n",
    "    currentpopulation=currentpopulation+population\n",
    "    print(i+1 , \"year later the population is\" ,'%d' % currentpopulation)"
   ]
  }
 ],
 "metadata": {
  "kernelspec": {
   "display_name": "Python 3",
   "language": "python",
   "name": "python3"
  },
  "language_info": {
   "codemirror_mode": {
    "name": "ipython",
    "version": 3
   },
   "file_extension": ".py",
   "mimetype": "text/x-python",
   "name": "python",
   "nbconvert_exporter": "python",
   "pygments_lexer": "ipython3",
   "version": "3.5.5"
  }
 },
 "nbformat": 4,
 "nbformat_minor": 2
}
