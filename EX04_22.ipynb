{
 "cells": [
  {
   "cell_type": "code",
   "execution_count": null,
   "metadata": {},
   "outputs": [],
   "source": [
    "# exercise 4-22\n",
    "#point in a circle?\n",
    "\n",
    "x, y = eval(input(\"Enter a point with two coordinates: \")) #remember that you should put \",\" between two values\n",
    "d = (x * x +  y * y) ** 0.5\n",
    "    \n",
    "if d <= 10:\n",
    "    print(\"Point (\" + str(x) + \", \" + str(y) + \") is in the circle\")\n",
    "else:\n",
    "    print(\"Point (\" + str(x) + \", \" + str(y) + \") is out of the circle\")"
   ]
  }
 ],
 "metadata": {
  "kernelspec": {
   "display_name": "Python 3",
   "language": "python",
   "name": "python3"
  },
  "language_info": {
   "codemirror_mode": {
    "name": "ipython",
    "version": 3
   },
   "file_extension": ".py",
   "mimetype": "text/x-python",
   "name": "python",
   "nbconvert_exporter": "python",
   "pygments_lexer": "ipython3",
   "version": "3.5.5"
  }
 },
 "nbformat": 4,
 "nbformat_minor": 2
}
