{
 "cells": [
  {
   "cell_type": "code",
   "execution_count": 43,
   "metadata": {},
   "outputs": [
    {
     "name": "stdout",
     "output_type": "stream",
     "text": [
      "C     F              F    C\n",
      "-----------------------------\n",
      "40 104.00     |     120 48.89   \n",
      "39 102.20     |     110 43.33   \n",
      "38 100.40     |     100 37.78   \n",
      "37 98.60      |     90  32.22   \n",
      "36 96.80      |     80  26.67   \n",
      "35 95.00      |     70  21.11   \n",
      "34 93.20      |     60  15.56   \n",
      "33 91.40      |     50  10.00   \n",
      "32 89.60      |     40  4.44    \n",
      "31 87.80      |     30  -1.11   \n"
     ]
    }
   ],
   "source": [
    "#exercise 6-9\n",
    "#temperatuer unit conversion\n",
    "\n",
    "def CtoF(c):\n",
    "    return (c*9/5) + 32\n",
    "def FtoC(f):\n",
    "    return (f-32) * (5/9)\n",
    "print(format(\"C\", \"<5s\"),format(\"F\", \"<14s\"),format(\"F\", \"<4s\"),\"C\")\n",
    "print(\"-----------------------------\")\n",
    "def main():\n",
    "    c=40\n",
    "    f=120\n",
    "    for i in range(10):\n",
    "        print(c, format(CtoF(c), \"<8.2f\"), \"  |    \",format(f, \"<3d\"),format(FtoC(f), \"<8.2f\"))\n",
    "        c-=1\n",
    "        f-=10\n",
    "              \n",
    "main()"
   ]
  }
 ],
 "metadata": {
  "kernelspec": {
   "display_name": "Python 3",
   "language": "python",
   "name": "python3"
  },
  "language_info": {
   "codemirror_mode": {
    "name": "ipython",
    "version": 3
   },
   "file_extension": ".py",
   "mimetype": "text/x-python",
   "name": "python",
   "nbconvert_exporter": "python",
   "pygments_lexer": "ipython3",
   "version": "3.5.5"
  }
 },
 "nbformat": 4,
 "nbformat_minor": 2
}
