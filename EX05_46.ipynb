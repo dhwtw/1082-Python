{
 "cells": [
  {
   "cell_type": "code",
   "execution_count": null,
   "metadata": {},
   "outputs": [],
   "source": [
    "# exercise 5-46\n",
    "#mean value & standard deviation\n",
    "\n",
    "import math\n",
    "\n",
    "n=10\n",
    "sum=0\n",
    "sum_square=0\n",
    "\n",
    "for i in range(n):\n",
    "    number = eval(input(\"Enter a number : \"))\n",
    "    sum += number\n",
    "    sum_square += number**2\n",
    "    \n",
    "meanvalue = sum/n\n",
    "deviation = math.sqrt((sum_square-(sum**2/n))/(n-1))\n",
    "\n",
    "print(\"The mean value is : \" , meanvalue)\n",
    "print(\"The standard deviation value is : \" ,\"%.2f\" % deviation)"
   ]
  }
 ],
 "metadata": {
  "kernelspec": {
   "display_name": "Python 3",
   "language": "python",
   "name": "python3"
  },
  "language_info": {
   "codemirror_mode": {
    "name": "ipython",
    "version": 3
   },
   "file_extension": ".py",
   "mimetype": "text/x-python",
   "name": "python",
   "nbconvert_exporter": "python",
   "pygments_lexer": "ipython3",
   "version": "3.5.5"
  }
 },
 "nbformat": 4,
 "nbformat_minor": 2
}
