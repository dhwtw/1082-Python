{
 "cells": [
  {
   "cell_type": "code",
   "execution_count": 1,
   "metadata": {},
   "outputs": [
    {
     "name": "stdout",
     "output_type": "stream",
     "text": [
      "Enter v0, v1, and t: 5,10,15\n",
      "The average acceleration is 0.3333333333333333\n"
     ]
    }
   ],
   "source": [
    "#exercise 2-16\n",
    "#Physics problem : average acceleration\n",
    "\n",
    "v0,v1,t = eval(input(\"Enter v0, v1, and t: \")) #make sure that \",\" should be put between every value\n",
    "a = (v1-v0)/t #the average accleration formula\n",
    "print(\"The average acceleration is\", a)\n"
   ]
  }
 ],
 "metadata": {
  "kernelspec": {
   "display_name": "Python 3",
   "language": "python",
   "name": "python3"
  },
  "language_info": {
   "codemirror_mode": {
    "name": "ipython",
    "version": 3
   },
   "file_extension": ".py",
   "mimetype": "text/x-python",
   "name": "python",
   "nbconvert_exporter": "python",
   "pygments_lexer": "ipython3",
   "version": "3.5.5"
  }
 },
 "nbformat": 4,
 "nbformat_minor": 2
}
